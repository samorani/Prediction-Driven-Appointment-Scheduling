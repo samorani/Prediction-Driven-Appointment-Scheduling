{
 "cells": [
  {
   "cell_type": "markdown",
   "metadata": {},
   "source": [
    "# Code For Practitioners"
   ]
  },
  {
   "cell_type": "markdown",
   "metadata": {},
   "source": [
    "This notebook helps the practioners to identify the classification technique to use and whether the classification objective should be to maximize accuracy or the F1 score."
   ]
  },
  {
   "cell_type": "markdown",
   "metadata": {},
   "source": [
    "## Input"
   ]
  },
  {
   "cell_type": "markdown",
   "metadata": {},
   "source": [
    "Before executing the code below, do the following:\n",
    "<ol>\n",
    "<li>prepare the file <i>data.csv</i> in the same folder as this notebook. The file should contain one row for each appointment and one column for each attribute. Make sure that the data set also contains a column named  <b>NS</b>, which indicates whether an appointments resulted in a show (NS=0) or in a no-show (NS=1).\n",
    "<li>download the file delta_costs.txt in the same folder as this notebook\n",
    "</ol>"
   ]
  },
  {
   "cell_type": "markdown",
   "metadata": {},
   "source": [
    "If any of the following \"import\" operations fail, be sure to install the missing package."
   ]
  },
  {
   "cell_type": "code",
   "execution_count": null,
   "metadata": {
    "collapsed": true
   },
   "outputs": [],
   "source": [
    "import pandas as pd\n",
    "import sklearn as sk\n",
    "from sklearn.model_selection import KFold\n",
    "from sklearn.model_selection import cross_val_score\n",
    "from sklearn.svm import LinearSVC\n",
    "from sklearn.ensemble import RandomForestClassifier\n",
    "from sklearn.naive_bayes import GaussianNB\n",
    "from sklearn.discriminant_analysis import QuadraticDiscriminantAnalysis\n",
    "from sklearn.neural_network import MLPClassifier\n",
    "from sklearn.ensemble import BaggingClassifier\n",
    "from sklearn.neighbors import KNeighborsClassifier\n",
    "from sklearn.ensemble import AdaBoostClassifier"
   ]
  },
  {
   "cell_type": "code",
   "execution_count": null,
   "metadata": {
    "collapsed": false
   },
   "outputs": [],
   "source": [
    "df = pd.read_csv('data.csv')"
   ]
  },
  {
   "cell_type": "code",
   "execution_count": null,
   "metadata": {
    "collapsed": true
   },
   "outputs": [],
   "source": [
    "delta_costs = pd.read_table('delta_costs.txt')"
   ]
  },
  {
   "cell_type": "markdown",
   "metadata": {},
   "source": [
    "## Find best classifier"
   ]
  },
  {
   "cell_type": "markdown",
   "metadata": {},
   "source": [
    "X is the set of independent variables"
   ]
  },
  {
   "cell_type": "code",
   "execution_count": null,
   "metadata": {
    "collapsed": false
   },
   "outputs": [],
   "source": [
    "X = df.drop('NS',axis=1)"
   ]
  },
  {
   "cell_type": "markdown",
   "metadata": {},
   "source": [
    "Y is the dependent variable NS"
   ]
  },
  {
   "cell_type": "code",
   "execution_count": null,
   "metadata": {
    "collapsed": false
   },
   "outputs": [],
   "source": [
    "Y = df.NS"
   ]
  },
  {
   "cell_type": "code",
   "execution_count": null,
   "metadata": {
    "collapsed": true
   },
   "outputs": [],
   "source": [
    "q = 1.0 - Y.mean()"
   ]
  },
  {
   "cell_type": "code",
   "execution_count": null,
   "metadata": {
    "collapsed": false
   },
   "outputs": [],
   "source": [
    "# Classifiers\n",
    "\n",
    "clfs = [sk.ensemble.RandomForestClassifier(n_jobs=-1,random_state=0), sk.naive_bayes.GaussianNB(),\n",
    "        sk.linear_model.LogisticRegression(n_jobs=-1),sk.tree.DecisionTreeClassifier(random_state=0),\n",
    "        sk.ensemble.AdaBoostClassifier(random_state=0),\n",
    "        QuadraticDiscriminantAnalysis(),MLPClassifier(random_state=0)]#,sk.svm.SVC()]\n",
    "clfsNames = {str(cl)[:15] : cl for cl in clfs}\n",
    "nfolds = 10\n",
    "maxAUC = -1\n",
    "bestCL = ''\n",
    "for cl in clfs:\n",
    "    print ('Testing ' + str(cl)[:10])\n",
    "    kf = KFold(n_splits=nfolds,random_state=2,shuffle=True)\n",
    "    auc = cross_val_score(cl,X,y=Y,cv=kf,scoring='roc_auc').mean()\n",
    "    if auc > maxAUC:\n",
    "        bestCL = cl\n",
    "        maxAUC = auc\n",
    "print ('The best classification technique is: ' + str(bestCL) +'. The cross-validated AUC is ' +str(round(maxAUC,4)))"
   ]
  },
  {
   "cell_type": "markdown",
   "metadata": {},
   "source": [
    "## Determine which threshold to use"
   ]
  },
  {
   "cell_type": "code",
   "execution_count": null,
   "metadata": {
    "collapsed": false
   },
   "outputs": [],
   "source": [
    "# Find the entry in delta_costs that is closest to q and maxAUC\n",
    "closestQ = round(delta_costs.iloc[((delta_costs.q - q).abs() / q).idxmin()].q,5)\n",
    "closestAUC = round(delta_costs.iloc[((delta_costs.auc - maxAUC).abs() / maxAUC).idxmin()].auc,5)\n",
    "\n",
    "# Retrieve the cost reductions\n",
    "max_delta_cost = delta_costs.loc[(delta_costs.q == closestQ) & ( delta_costs.auc == closestAUC)]['max_cost_decrease'].values[0]\n",
    "accuracy_delta_cost = delta_costs.loc[(delta_costs.q == closestQ) & ( delta_costs.auc == closestAUC),'acc_cost_decrease'].values[0]\n",
    "f1_delta_cost = delta_costs.loc[(delta_costs.q == closestQ) & ( delta_costs.auc == closestAUC),'f1_cost_decrease'].values[0]\n",
    "\n",
    "print('By using predictive analytics with AUC = ' + str(closestAUC) + ' and q = ' +str(closestQ) +\n",
    "      ', the maximum cost reduction is ' + str(max_delta_cost) + '%')\n",
    "print('By selecting the theshold that maximizes accuracy, the cost reduction is ' + str(accuracy_delta_cost) + '%')\n",
    "print('By selecting the theshold that maximizes the F1 score, the cost reduction is ' + str(f1_delta_cost) + '%')"
   ]
  },
  {
   "cell_type": "code",
   "execution_count": null,
   "metadata": {
    "collapsed": true
   },
   "outputs": [],
   "source": []
  }
 ],
 "metadata": {
  "kernelspec": {
   "display_name": "Python 2",
   "language": "python",
   "name": "python2"
  },
  "language_info": {
   "codemirror_mode": {
    "name": "ipython",
    "version": 2
   },
   "file_extension": ".py",
   "mimetype": "text/x-python",
   "name": "python",
   "nbconvert_exporter": "python",
   "pygments_lexer": "ipython2",
   "version": "2.7.11"
  }
 },
 "nbformat": 4,
 "nbformat_minor": 0
}
